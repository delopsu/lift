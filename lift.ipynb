{
 "cells": [
  {
   "cell_type": "markdown",
   "id": "d1f107cd-0893-4f78-8aca-9a68c0be5de5",
   "metadata": {},
   "source": [
    "# Find lifts wear and tear\n",
    "How much more will one lift wear out compared to the other.\n",
    "\n",
    "In my builing we have 2 lifts with one button that calls the closest one.\n",
    "Noticed that when both of them are on the same floor, the left one will arrive.\n",
    "I guess there is some chip that prioritese the first lift in the list (the left one: [0, 1]).\n",
    "\n",
    "As a result left one gets more wear and tear and e.g. already has more issues with doors.\n",
    "So I wonder — how much more left one will be worn out over time?\n",
    "\n",
    "Main issue to check: piciking the first lift in the list, if both are on the same floor.\n",
    "\n",
    "### TL;DR\n",
    "Left one does ~2x more work:\n",
    "```\n",
    "Lift 4606717504: at 5, wear: 494535\n",
    "Lift 4613068176: at 0, wear: 226344\n",
    "```\n",
    "\n",
    "\n",
    "### Plan\n",
    "- call lift for random room\n",
    "- move lift from its current floor to one where it's called\n",
    "- move lift to destination\n",
    "- from non 0 floor move to 0\n",
    "- from 0 back to room's floor\n"
   ]
  },
  {
   "cell_type": "code",
   "execution_count": 81,
   "id": "982e039b-c610-49a2-abeb-db3ece82fcf3",
   "metadata": {},
   "outputs": [],
   "source": [
    "import random"
   ]
  },
  {
   "cell_type": "code",
   "execution_count": 82,
   "id": "37294644-acb3-433a-a732-327652e8d685",
   "metadata": {},
   "outputs": [],
   "source": [
    "floors = 10\n",
    "rooms_per_floor = 100"
   ]
  },
  {
   "cell_type": "code",
   "execution_count": 83,
   "id": "b9fbecdf-04f0-4b26-ab22-db24517e00c0",
   "metadata": {},
   "outputs": [],
   "source": [
    "class Lift:\n",
    "    wear = 0\n",
    "    current_floor = 0\n",
    "    \n",
    "    def run_floors(self, n):\n",
    "        self.wear += n\n",
    "\n",
    "    def move(self, _from, _to):\n",
    "        self.run_floors(abs(_from - _to))\n",
    "        self.current_floor = _to\n",
    "\n",
    "    def __repr__(self):\n",
    "        return f'Lift {id(self)}: at {self.current_floor}, wear: {self.wear}'\n",
    "\n",
    "\n",
    "class Room:\n",
    "    floor: int\n",
    "    number: int\n",
    "    current_floor = 0\n",
    "    trips = 0\n",
    "\n",
    "    def __init__(self, floor, number):\n",
    "        self.floor = floor\n",
    "        self.number = number\n",
    "\n",
    "    def __repr__(self):\n",
    "        return f'Room: {self.floor}-{self.number}, {self.current_floor}, {self.trips}'"
   ]
  },
  {
   "cell_type": "code",
   "execution_count": 84,
   "id": "d7be6439-ed75-4ca0-91ac-92388f94d014",
   "metadata": {},
   "outputs": [],
   "source": [
    "def pick_lift(floor):\n",
    "    \n",
    "    def distance(_l):\n",
    "        return abs(floor-_l.current_floor)\n",
    "        \n",
    "    if len({l.current_floor for l in lifts}) == 1:\n",
    "        closest = lifts[0]\n",
    "    else:\n",
    "        lifts_with_distance = [(l, distance(l)) for l in lifts]\n",
    "        closest = sorted(lifts_with_distance, key=lambda x: x[1])[0][0]\n",
    "    \n",
    "    return closest"
   ]
  },
  {
   "cell_type": "code",
   "execution_count": 85,
   "id": "5d7ac90e-643a-42ca-bd81-eaf7ea2657a5",
   "metadata": {},
   "outputs": [],
   "source": [
    "def call_lift(room):\n",
    "    if room.current_floor == 0:\n",
    "        _from = 0\n",
    "        _to = room.floor\n",
    "    else:\n",
    "        _from = room.floor\n",
    "        _to = 0\n",
    "    lift = pick_lift(_from)\n",
    "    lift.move(lift.current_floor, _from)\n",
    "    lift.move(_from, _to)\n",
    "    room.current_floor = _to\n",
    "    room.trips += 1"
   ]
  },
  {
   "cell_type": "markdown",
   "id": "313d7f94-e282-4109-91c1-8b461049f1d5",
   "metadata": {},
   "source": [
    "## Run"
   ]
  },
  {
   "cell_type": "code",
   "execution_count": 86,
   "id": "16550666-7980-4bdf-b6bb-56504fe1b176",
   "metadata": {},
   "outputs": [],
   "source": [
    "lifts = (Lift(), Lift())\n",
    "\n",
    "rooms = []\n",
    "for i in range(1, floors):\n",
    "    for j in range(rooms_per_floor):\n",
    "        rooms.append(Room(floor=i, number=j))"
   ]
  },
  {
   "cell_type": "code",
   "execution_count": 87,
   "id": "38e08d30-26ed-4f9e-ba5d-4078d0dcb28b",
   "metadata": {},
   "outputs": [
    {
     "name": "stdout",
     "output_type": "stream",
     "text": [
      "Lift 4606717504: at 5, wear: 494535\n",
      "Lift 4613068176: at 0, wear: 226344\n"
     ]
    }
   ],
   "source": [
    "for i in range(100000):\n",
    "    room = random.choice(rooms)\n",
    "    call_lift(room)\n",
    "\n",
    "for lift in lifts:\n",
    "    print(lift)"
   ]
  },
  {
   "cell_type": "markdown",
   "id": "6e682c34-c548-4522-ab07-05b7b7ca4393",
   "metadata": {},
   "source": [
    "## Test"
   ]
  },
  {
   "cell_type": "code",
   "execution_count": 88,
   "id": "b40d0ec7-bb38-4c36-aa2d-90fd543a57b1",
   "metadata": {},
   "outputs": [],
   "source": [
    "floors = 5\n",
    "lifts = [Lift(), Lift()]\n",
    "rooms = []\n",
    "for i in range(1, floors):\n",
    "    for j in range(rooms_per_floor):\n",
    "        rooms.append(Room(floor=i, number=j))\n",
    "\n",
    "\n",
    "lifts[0].current_floor = 4\n",
    "# 4 vs 0\n",
    "assert pick_lift(0) == lifts[1]  # 4-0 vs 0-0\n",
    "assert pick_lift(1) == lifts[1]  # 4-1 vs 0-1\n",
    "assert pick_lift(2) == lifts[0]  # 4-2 vs 0-2\n",
    "assert pick_lift(3) == lifts[0]  # 4-3 vs 0-3\n",
    "assert pick_lift(4) == lifts[0]  # 4-4 vs 1-0\n",
    "\n",
    "# 4 vs 4\n",
    "lifts[1].current_floor = 4\n",
    "assert pick_lift(0) == lifts[0]\n",
    "\n",
    "\n",
    "room = random.choice(rooms)\n",
    "call_lift(room)\n",
    "# move lift from 4 to 0 and to the room's floor\n",
    "assert lifts[0].wear == room.floor + 4\n",
    "\n",
    "\n",
    "# total trips\n",
    "for i in range(10):\n",
    "    room = random.choice(rooms)\n",
    "    call_lift(room)\n",
    "\n",
    "assert sum(r.trips for r in rooms) == 11"
   ]
  }
 ],
 "metadata": {
  "kernelspec": {
   "display_name": "Python 3 (ipykernel)",
   "language": "python",
   "name": "python3"
  },
  "language_info": {
   "codemirror_mode": {
    "name": "ipython",
    "version": 3
   },
   "file_extension": ".py",
   "mimetype": "text/x-python",
   "name": "python",
   "nbconvert_exporter": "python",
   "pygments_lexer": "ipython3",
   "version": "3.13.2"
  }
 },
 "nbformat": 4,
 "nbformat_minor": 5
}
